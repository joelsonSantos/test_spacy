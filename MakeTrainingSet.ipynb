{
 "cells": [
  {
   "cell_type": "code",
   "execution_count": 118,
   "metadata": {},
   "outputs": [],
   "source": [
    "from __future__ import unicode_literals, print_function\n",
    "\n",
    "import pandas as pd\n",
    "import os\n",
    "import plac\n",
    "import random\n",
    "import warnings\n",
    "from pathlib import Path\n",
    "import spacy\n",
    "from spacy.util import minibatch, compounding"
   ]
  },
  {
   "cell_type": "code",
   "execution_count": 119,
   "metadata": {},
   "outputs": [],
   "source": [
    "data = []\n",
    "with open(\"treino.txt\", \"r\") as f:\n",
    "    for line in f.readlines():\n",
    "        data.append(line.replace('\\n', ''))\n",
    "dataset = pd.DataFrame({'corpus': list(set(data))})"
   ]
  },
  {
   "cell_type": "code",
   "execution_count": 120,
   "metadata": {},
   "outputs": [
    {
     "data": {
      "text/html": [
       "<div>\n",
       "<style scoped>\n",
       "    .dataframe tbody tr th:only-of-type {\n",
       "        vertical-align: middle;\n",
       "    }\n",
       "\n",
       "    .dataframe tbody tr th {\n",
       "        vertical-align: top;\n",
       "    }\n",
       "\n",
       "    .dataframe thead th {\n",
       "        text-align: right;\n",
       "    }\n",
       "</style>\n",
       "<table border=\"1\" class=\"dataframe\">\n",
       "  <thead>\n",
       "    <tr style=\"text-align: right;\">\n",
       "      <th></th>\n",
       "      <th>corpus</th>\n",
       "    </tr>\n",
       "  </thead>\n",
       "  <tbody>\n",
       "    <tr>\n",
       "      <th>0</th>\n",
       "      <td>DIRETORIA DE HABILITAÇÃO</td>\n",
       "    </tr>\n",
       "    <tr>\n",
       "      <th>1</th>\n",
       "      <td>Portaria DH-386, de 14-1-2021</td>\n",
       "    </tr>\n",
       "    <tr>\n",
       "      <th>2</th>\n",
       "      <td>realizada em 02-12-2020 encetada pelas Ordens ...</td>\n",
       "    </tr>\n",
       "    <tr>\n",
       "      <th>3</th>\n",
       "      <td>Antonio Carlos Pereira dos Santos, CPF 018.247...</td>\n",
       "    </tr>\n",
       "    <tr>\n",
       "      <th>4</th>\n",
       "      <td>mento.</td>\n",
       "    </tr>\n",
       "  </tbody>\n",
       "</table>\n",
       "</div>"
      ],
      "text/plain": [
       "                                              corpus\n",
       "0                           DIRETORIA DE HABILITAÇÃO\n",
       "1                      Portaria DH-386, de 14-1-2021\n",
       "2  realizada em 02-12-2020 encetada pelas Ordens ...\n",
       "3  Antonio Carlos Pereira dos Santos, CPF 018.247...\n",
       "4                                             mento."
      ]
     },
     "execution_count": 120,
     "metadata": {},
     "output_type": "execute_result"
    }
   ],
   "source": [
    "dataset.head()"
   ]
  },
  {
   "cell_type": "code",
   "execution_count": 217,
   "metadata": {},
   "outputs": [],
   "source": [
    "# carrega modelo em portugues\n",
    "nlp = spacy.load('pt_core_news_sm')"
   ]
  },
  {
   "cell_type": "code",
   "execution_count": 218,
   "metadata": {},
   "outputs": [],
   "source": [
    "text = \"\\n\".join(dataset[\"corpus\"])"
   ]
  },
  {
   "cell_type": "code",
   "execution_count": 219,
   "metadata": {},
   "outputs": [
    {
     "name": "stdout",
     "output_type": "stream",
     "text": [
      "[('Estampador de Placa de Identificação Veicular, nos termos da', {'entities': [(0, 45, 'CARGO')]}), ('pelo CFC “A”: Celso Silva Santos Auto Escola, nome fantasia', {'entities': [(14, 44, 'ORG')]}), ('desfavor do CFC “A” Celso Silva Santos Auto Escola, nome fan-', {'entities': [(20, 50, 'ORG')]}), ('O Diretor Setorial de Veículos do Detran-SP resolve:', {'entities': [(2, 43, 'CARGO')]}), ('15.900-053 como Estampador de Placa de Identificação Veicular,', {'entities': [(16, 61, 'CARGO')]}), ('Comercio de Placas Ltda – CNPJ 37.430.585/0005-13 estabele-', {'entities': [(0, 23, 'ORG')]}), ('15.900-023 como Estampador de Placa de Identificação Veicular,', {'entities': [(16, 61, 'CARGO')]}), ('14.540-000 como Estampador de Placa de Identificação Veicular,', {'entities': [(16, 61, 'CARGO')]}), ('122 como Estampador de Placa de Identificação Veicular, nos', {'entities': [(9, 54, 'CARGO')]})]\n"
     ]
    }
   ],
   "source": [
    "# teste com a lib re\n",
    "import re\n",
    "\n",
    "terms = [ # Montar como regex\n",
    "    (\"Estampador de Placa de Identificação Veicular\", \"CARGO\"),\n",
    "    (\"Celso Silva Santos Auto Escola\", \"ORG\"),\n",
    "    (\"Diretor Setorial de Veículos do Detran-SP\", \"CARGO\"),\n",
    "    (\"Diretor de Habilitação do Departamento Estadual de Trânsito - Detran/SP\", \"CARGO\"),\n",
    "    (\"Comercio de Placas Ltda\", \"ORG\")\n",
    "]\n",
    "\n",
    "TRAIN_DATA = []\n",
    "for row in dataset['corpus']:\n",
    "    for term in terms:\n",
    "        x = re.search(term[0], row)\n",
    "        if x:\n",
    "            TRAIN_DATA.append((row, {\"entities\": [(x.span()[0], x.span()[1], term[1])]}))\n",
    "print(TRAIN_DATA)"
   ]
  },
  {
   "cell_type": "code",
   "execution_count": 220,
   "metadata": {},
   "outputs": [],
   "source": [
    "# TRAIN_DATA = [\n",
    "#     (\"Estampador de Placa de Identificação Veicular, nos termos da\", {\"entities\": [(0, 45, 'CARGO')]}),\n",
    "#     (\"pelo CFC “A”: Celso Silva Santos Auto Escola, nome fantasia\", {\"entities\": [(14, 44, 'ORG')]}),\n",
    "#     (\"Celso Silva Santos, CPF 348.409.338-20, por transgressões ao\", {\"entities\": [(0, 18, 'PERSON')]}),\n",
    "#     (\"5.900-053 como Estampador de Placa de Identificação Veicular,\", {\"entities\": [(15, 60, 'CARGO')]}),\n",
    "# ]"
   ]
  },
  {
   "cell_type": "code",
   "execution_count": 221,
   "metadata": {},
   "outputs": [],
   "source": [
    "# Carrega modelo atual na lib\n",
    "ner=nlp.get_pipe(\"ner\")\n",
    "\n",
    "# Adding labels to the `ner`\n",
    "for _, annotations in TRAIN_DATA:\n",
    "    for ent in annotations.get(\"entities\"):\n",
    "        ner.add_label(ent[2])"
   ]
  },
  {
   "cell_type": "code",
   "execution_count": 222,
   "metadata": {},
   "outputs": [
    {
     "name": "stdout",
     "output_type": "stream",
     "text": [
      "Entities [('Diretor Setorial de Veículos do Detran-SP', 'PER'), ('Artigo', 'LOC'), ('Solange Aires de Oliveira Souza Eireli', 'PER'), ('CNPJ', 'MISC'), ('R Jose Moreira Leite', 'MISC'), ('Jardim Planalto', 'LOC'), ('Itai', 'LOC'), ('SP', 'LOC'), ('Estampador de Placa de Identificação Veicular', 'MISC'), ('Resolução Contran 780/2019', 'MISC')]\n"
     ]
    }
   ],
   "source": [
    "# predição sem treinamento\n",
    "doc = nlp(\"O Diretor Setorial de Veículos do Detran-SP resolve: Artigo 1o. Credenciar a pessoa jurídica Solange Aires de Oliveira Souza Eireli – CNPJ 36.647.867/0001-80 estabelecida na R Jose Moreira Leite, 206 - Jardim Planalto – Itai – SP – 18.730-122 como Estampador de Placa de Identificação Veicular, nos termos da Resolução Contran 780/2019.\")\n",
    "print(\"Entities\", [(ent.text, ent.label_) for ent in doc.ents])"
   ]
  },
  {
   "cell_type": "code",
   "execution_count": 223,
   "metadata": {},
   "outputs": [],
   "source": [
    "# Disable pipeline components you dont need to change\n",
    "pipe_exceptions = [\"ner\", \"trf_wordpiecer\", \"trf_tok2vec\"]\n",
    "unaffected_pipes = [pipe for pipe in nlp.pipe_names if pipe not in pipe_exceptions]"
   ]
  },
  {
   "cell_type": "code",
   "execution_count": 224,
   "metadata": {},
   "outputs": [],
   "source": [
    "# Import requirements\n",
    "import random\n",
    "from spacy.util import minibatch, compounding\n",
    "from pathlib import Path\n",
    "\n",
    "# TRAINING THE MODEL\n",
    "with nlp.disable_pipes(*unaffected_pipes):\n",
    "\n",
    "  # Training for 300 iterations\n",
    "  for iteration in range(300):\n",
    "\n",
    "    # shuufling examples  before every iteration\n",
    "    random.shuffle(TRAIN_DATA)\n",
    "    losses = {}\n",
    "    # batch up the examples using spaCy's minibatch\n",
    "    batches = minibatch(TRAIN_DATA, size=compounding(4.0, 32.0, 1.001))\n",
    "    for batch in batches:\n",
    "        texts, annotations = zip(*batch)\n",
    "        nlp.update(\n",
    "                    texts,  # batch of texts\n",
    "                    annotations,  # batch of annotations\n",
    "                    drop=0.5,  # dropout - make it harder to memorise data\n",
    "                    losses=losses,\n",
    "                )\n",
    "        # print(\"Losses\", losses)"
   ]
  },
  {
   "cell_type": "code",
   "execution_count": 225,
   "metadata": {},
   "outputs": [
    {
     "name": "stdout",
     "output_type": "stream",
     "text": [
      "Entities [('Diretor Setorial de Veículos do Detran-SP resolve: Artigo 1o.', 'CARGO'), ('Solange Aires de Oliveira Souza Eireli', 'ORG'), ('Estampador de Placa de Identificação Veicular', 'CARGO')]\n"
     ]
    }
   ],
   "source": [
    "# predição depois do treinamento\n",
    "doc = nlp(\"O Diretor Setorial de Veículos do Detran-SP resolve: Artigo 1o. Credenciar a pessoa jurídica Solange Aires de Oliveira Souza Eireli – CNPJ 36.647.867/0001-80 estabelecida na R Jose Moreira Leite, 206 - Jardim Planalto – Itai – SP – 18.730-122 como Estampador de Placa de Identificação Veicular, nos termos da Resolução Contran 780/2019.\")\n",
    "print(\"Entities\", [(ent.text, ent.label_) for ent in doc.ents])"
   ]
  },
  {
   "cell_type": "code",
   "execution_count": null,
   "metadata": {},
   "outputs": [],
   "source": []
  },
  {
   "cell_type": "code",
   "execution_count": null,
   "metadata": {},
   "outputs": [],
   "source": []
  }
 ],
 "metadata": {
  "kernelspec": {
   "display_name": "Python 3",
   "language": "python",
   "name": "python3"
  },
  "language_info": {
   "codemirror_mode": {
    "name": "ipython",
    "version": 3
   },
   "file_extension": ".py",
   "mimetype": "text/x-python",
   "name": "python",
   "nbconvert_exporter": "python",
   "pygments_lexer": "ipython3",
   "version": "3.7.5"
  }
 },
 "nbformat": 4,
 "nbformat_minor": 4
}
